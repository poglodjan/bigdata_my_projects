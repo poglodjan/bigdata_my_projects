{
 "cells": [
  {
   "cell_type": "markdown",
   "metadata": {},
   "source": [
    "## 1) Read kafka stream and display"
   ]
  },
  {
   "cell_type": "code",
   "execution_count": null,
   "metadata": {},
   "outputs": [],
   "source": [
    "from kafka import KafkaConsumer\n",
    "import json"
   ]
  },
  {
   "cell_type": "code",
   "execution_count": null,
   "metadata": {},
   "outputs": [],
   "source": [
    "consumer = KafkaConsumer('text_stram', group_id='1',\n",
    "                         bootstrap_servers='localhost:9092')\n",
    "for msg in consumer:\n",
    "    print(msg)\n",
    "\n",
    "msg=next(consumer)\n",
    "print(msg)\n",
    "msg.key\n",
    "msg.value\n",
    "msg.timestamp"
   ]
  },
  {
   "cell_type": "markdown",
   "metadata": {},
   "source": [
    "## 2) Read Kafka process and save"
   ]
  },
  {
   "cell_type": "code",
   "execution_count": null,
   "metadata": {},
   "outputs": [],
   "source": [
    "import kafka\n",
    "import sys\n",
    "import json\n",
    "from hdfs import InsecureClient\n",
    "from datetime import datetime"
   ]
  },
  {
   "cell_type": "code",
   "execution_count": null,
   "metadata": {},
   "outputs": [],
   "source": [
    "def main():\n",
    "    consumer = kafka.KafkaConsumer(\"alerts\", bootstrap_servers=\"localhost:9092\")\n",
    "    hdfs_client = InsecureClient(\"http://localhost:50070\", user=\"vagrant\")\n",
    "    hdfs_path = \"/user/vagrant/test2/alerts/fires\"\n",
    "\n",
    "    if not hdfs_client.content(hdfs_path, strict=False):\n",
    "        hdfs_client.makedirs(hdfs_path)\n",
    "    \n",
    "    batch = []\n",
    "    for msg in consumer:\n",
    "        alert = json.loads(msg.value)\n",
    "        if alert[\"keywords\"] == \"fire\" or alert[\"text\"].find(\"fire\") != -1:\n",
    "            batch.append(alert)\n",
    "            print(alert)\n",
    "            if msg[\"location\"] != \"\":\n",
    "                log_file.write(msg[\"location\"] + \"\\n\")\n",
    "        if len(batch) == 10:\n",
    "            hdfs_client.write(hdfs_path + \"/\" + datetime.now().strftime(\"%Y-%m-%d_%H-%M-%S\") + \n",
    "                              \".csv\", data=json.dumps(batch), encoding = \"utf-8\")\n",
    "            batch = []\n",
    "\n",
    "if __name__ == \"__main__\":\n",
    "    main()\n",
    "    sys.exit()"
   ]
  }
 ],
 "metadata": {
  "kernelspec": {
   "display_name": "base",
   "language": "python",
   "name": "python3"
  },
  "language_info": {
   "codemirror_mode": {
    "name": "ipython",
    "version": 3
   },
   "file_extension": ".py",
   "mimetype": "text/x-python",
   "name": "python",
   "nbconvert_exporter": "python",
   "pygments_lexer": "ipython3",
   "version": "3.9.7"
  }
 },
 "nbformat": 4,
 "nbformat_minor": 2
}
